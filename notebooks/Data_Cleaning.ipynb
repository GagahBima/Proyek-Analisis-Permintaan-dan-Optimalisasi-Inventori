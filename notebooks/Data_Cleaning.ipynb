{
 "cells": [
  {
   "cell_type": "markdown",
   "id": "9bf82189-c0e8-4e3b-8c62-c115bec79410",
   "metadata": {},
   "source": [
    "# Pembersihan Data Penjualan Harian untuk Analisis Time Series\r\n",
    "\r\n"
   ]
  },
  {
   "cell_type": "markdown",
   "id": "a5be2cb0-28a4-48a3-a992-b1be53daf97c",
   "metadata": {
    "jp-MarkdownHeadingCollapsed": true
   },
   "source": [
    "## **Langkah 1: Memuat dan Memeriksa Data Awal**\n",
    "\n",
    "Langkah pertama adalah memuat dataset `mock_kaggle.csv` menggunakan library Pandas. Setelah itu, kita akan melakukan inspeksi awal untuk memahami struktur data, tipe kolom, dan melihat beberapa baris pertama. "
   ]
  },
  {
   "cell_type": "code",
   "execution_count": 1,
   "id": "f1d42870-e6ae-4227-9dde-ce1af41b23ff",
   "metadata": {},
   "outputs": [
    {
     "name": "stdout",
     "output_type": "stream",
     "text": [
      "Lima Baris Pertama Data Awal:\n"
     ]
    },
    {
     "data": {
      "text/html": [
       "<div>\n",
       "<style scoped>\n",
       "    .dataframe tbody tr th:only-of-type {\n",
       "        vertical-align: middle;\n",
       "    }\n",
       "\n",
       "    .dataframe tbody tr th {\n",
       "        vertical-align: top;\n",
       "    }\n",
       "\n",
       "    .dataframe thead th {\n",
       "        text-align: right;\n",
       "    }\n",
       "</style>\n",
       "<table border=\"1\" class=\"dataframe\">\n",
       "  <thead>\n",
       "    <tr style=\"text-align: right;\">\n",
       "      <th></th>\n",
       "      <th>data;venda;estoque;preco</th>\n",
       "    </tr>\n",
       "  </thead>\n",
       "  <tbody>\n",
       "    <tr>\n",
       "      <th>0</th>\n",
       "      <td>01/01/2014;0;4972;1.29</td>\n",
       "    </tr>\n",
       "    <tr>\n",
       "      <th>1</th>\n",
       "      <td>02/01/2014;70;4902;1.29</td>\n",
       "    </tr>\n",
       "    <tr>\n",
       "      <th>2</th>\n",
       "      <td>03/01/2014;59;4843;1.29</td>\n",
       "    </tr>\n",
       "    <tr>\n",
       "      <th>3</th>\n",
       "      <td>04/01/2014;93;4750;1.29</td>\n",
       "    </tr>\n",
       "    <tr>\n",
       "      <th>4</th>\n",
       "      <td>05/01/2014;96;4654;1.29</td>\n",
       "    </tr>\n",
       "  </tbody>\n",
       "</table>\n",
       "</div>"
      ],
      "text/plain": [
       "  data;venda;estoque;preco\n",
       "0   01/01/2014;0;4972;1.29\n",
       "1  02/01/2014;70;4902;1.29\n",
       "2  03/01/2014;59;4843;1.29\n",
       "3  04/01/2014;93;4750;1.29\n",
       "4  05/01/2014;96;4654;1.29"
      ]
     },
     "metadata": {},
     "output_type": "display_data"
    },
    {
     "name": "stdout",
     "output_type": "stream",
     "text": [
      "\n",
      "Informasi Awal DataFrame:\n",
      "<class 'pandas.core.frame.DataFrame'>\n",
      "RangeIndex: 937 entries, 0 to 936\n",
      "Data columns (total 1 columns):\n",
      " #   Column                    Non-Null Count  Dtype \n",
      "---  ------                    --------------  ----- \n",
      " 0   data;venda;estoque;preco  937 non-null    object\n",
      "dtypes: object(1)\n",
      "memory usage: 7.4+ KB\n"
     ]
    }
   ],
   "source": [
    "import pandas as pd\n",
    "import numpy as np\n",
    "\n",
    "# Muat dataset dari file CSV\n",
    "file_path = 'raw_data.csv'\n",
    "df = pd.read_csv(file_path)\n",
    "\n",
    "# Tampilkan 5 baris pertama untuk melihat sampel data\n",
    "print(\"Lima Baris Pertama Data Awal:\")\n",
    "display(df.head())\n",
    "\n",
    "# Tampilkan informasi umum tentang DataFrame\n",
    "print(\"\\nInformasi Awal DataFrame:\")\n",
    "df.info()"
   ]
  },
  {
   "cell_type": "markdown",
   "id": "15517a99-eb5e-40c1-9c8b-bfd878a686f2",
   "metadata": {},
   "source": [
    "### **Temuan Awal:**\n",
    "\n",
    "  * Dataset terdiri dari **937 baris** dan 4 kolom: `data`, `venda`, `estoque`, dan `preco`.\n",
    "  * Tidak ada nilai yang hilang (non-null) pada data mentah.\n",
    "  * Kolom `data` (tanggal) saat ini berjenis `object` (teks), yang perlu diubah menjadi `datetime` untuk analisis berbasis waktu.\n",
    "  * Nama kolom masih dalam Bahasa Portugis/Spanyol. Nantinya akan kita ubah ke Bahasa Inggris untuk standardisasi."
   ]
  },
  {
   "cell_type": "markdown",
   "id": "7f806418-f4d2-4707-9d84-78592e36bb50",
   "metadata": {
    "jp-MarkdownHeadingCollapsed": true
   },
   "source": [
    "## **Langkah 2: Pembersihan dan Pra-pemrosesan Data**\r\n",
    "\r\n",
    "Pada tahap ini, kita akan melakukan serangkaian transformasi untuk membuat data siap dianalisis."
   ]
  },
  {
   "cell_type": "markdown",
   "id": "bc57e696-c1fc-463d-a750-5b31877d35f8",
   "metadata": {},
   "source": [
    "### **2.1. Konversi Tipe Data Tanggal dan Penyesuaian Indeks**\n",
    "\n",
    "Langkah paling krusial dalam analisis time series adalah memastikan data memiliki indeks waktu yang benar. Kita akan mengonversi kolom `data` menjadi `datetime` dan menjadikannya sebagai indeks DataFrame."
   ]
  },
  {
   "cell_type": "code",
   "execution_count": 38,
   "id": "8d5fc575-eff0-46c8-b305-3c04a12e1a06",
   "metadata": {},
   "outputs": [
    {
     "name": "stdout",
     "output_type": "stream",
     "text": [
      "Tipe data indeks setelah konversi: datetime64[ns]\n"
     ]
    },
    {
     "data": {
      "text/html": [
       "<div>\n",
       "<style scoped>\n",
       "    .dataframe tbody tr th:only-of-type {\n",
       "        vertical-align: middle;\n",
       "    }\n",
       "\n",
       "    .dataframe tbody tr th {\n",
       "        vertical-align: top;\n",
       "    }\n",
       "\n",
       "    .dataframe thead th {\n",
       "        text-align: right;\n",
       "    }\n",
       "</style>\n",
       "<table border=\"1\" class=\"dataframe\">\n",
       "  <thead>\n",
       "    <tr style=\"text-align: right;\">\n",
       "      <th></th>\n",
       "      <th>venda</th>\n",
       "      <th>estoque</th>\n",
       "      <th>preco</th>\n",
       "    </tr>\n",
       "    <tr>\n",
       "      <th>data</th>\n",
       "      <th></th>\n",
       "      <th></th>\n",
       "      <th></th>\n",
       "    </tr>\n",
       "  </thead>\n",
       "  <tbody>\n",
       "    <tr>\n",
       "      <th>2014-01-01</th>\n",
       "      <td>0</td>\n",
       "      <td>4972</td>\n",
       "      <td>1.29</td>\n",
       "    </tr>\n",
       "    <tr>\n",
       "      <th>2014-01-02</th>\n",
       "      <td>70</td>\n",
       "      <td>4902</td>\n",
       "      <td>1.29</td>\n",
       "    </tr>\n",
       "    <tr>\n",
       "      <th>2014-01-03</th>\n",
       "      <td>59</td>\n",
       "      <td>4843</td>\n",
       "      <td>1.29</td>\n",
       "    </tr>\n",
       "    <tr>\n",
       "      <th>2014-01-04</th>\n",
       "      <td>93</td>\n",
       "      <td>4750</td>\n",
       "      <td>1.29</td>\n",
       "    </tr>\n",
       "    <tr>\n",
       "      <th>2014-01-05</th>\n",
       "      <td>96</td>\n",
       "      <td>4654</td>\n",
       "      <td>1.29</td>\n",
       "    </tr>\n",
       "  </tbody>\n",
       "</table>\n",
       "</div>"
      ],
      "text/plain": [
       "            venda  estoque  preco\n",
       "data                             \n",
       "2014-01-01      0     4972   1.29\n",
       "2014-01-02     70     4902   1.29\n",
       "2014-01-03     59     4843   1.29\n",
       "2014-01-04     93     4750   1.29\n",
       "2014-01-05     96     4654   1.29"
      ]
     },
     "metadata": {},
     "output_type": "display_data"
    }
   ],
   "source": [
    "# Pecah kolom tunggal menjadi beberapa kolom\n",
    "df = df.iloc[:, 0].str.split(';', expand=True)\n",
    "df.columns = ['data', 'venda', 'estoque', 'preco']\n",
    "\n",
    "# Konversi tipe data\n",
    "df['data'] = pd.to_datetime(df['data'], dayfirst=True, errors='coerce')\n",
    "df['venda'] = pd.to_numeric(df['venda'], errors='coerce')\n",
    "df['estoque'] = pd.to_numeric(df['estoque'], errors='coerce')\n",
    "# Jika desimal pakai koma, ganti koma dulu:\n",
    "df['preco'] = pd.to_numeric(df['preco'].str.replace(',', '.'), errors='coerce')\n",
    "\n",
    "# Set index waktu dan urutkan\n",
    "df = df.set_index('data').sort_index()\n",
    "\n",
    "print(\"Tipe data indeks setelah konversi:\", df.index.dtype)\n",
    "display(df.head())"
   ]
  },
  {
   "cell_type": "markdown",
   "id": "9d1f91cd-39a6-43d9-8769-8d783c754557",
   "metadata": {},
   "source": [
    "### **2.2. Mengidentifikasi dan Mengisi Tanggal yang Hilang**\r\n",
    "\r\n",
    "Analisis time series yang andal memerlukan data dengan interval yang konsisten (dalam kasus ini, harian). Kita akan memeriksa apakah ada \"lubang\" atau tanggal yang datanya tidak tercatat.\r\n"
   ]
  },
  {
   "cell_type": "code",
   "execution_count": 41,
   "id": "0bd51798-e0cc-4970-9201-07304f918f36",
   "metadata": {},
   "outputs": [
    {
     "name": "stdout",
     "output_type": "stream",
     "text": [
      "Ditemukan 6 tanggal yang hilang dalam data.\n",
      "Contoh tanggal yang hilang: ['2014-01-17', '2014-02-10', '2014-02-11', '2014-03-04', '2014-03-15']\n",
      "\n",
      "Jumlah nilai kosong (NaN) setelah re-indexing:\n",
      "venda      6\n",
      "estoque    6\n",
      "preco      6\n",
      "dtype: int64\n"
     ]
    }
   ],
   "source": [
    "# Buat rentang tanggal harian yang lengkap dari tanggal min hingga max\n",
    "full_range = pd.date_range(start=df.index.min(), end=df.index.max(), freq='D')\n",
    "\n",
    "# Temukan tanggal yang ada di rentang lengkap tapi tidak ada di data kita\n",
    "missing_dates = full_range.difference(df.index)\n",
    "\n",
    "print(f\"Ditemukan {len(missing_dates)} tanggal yang hilang dalam data.\")\n",
    "if not missing_dates.empty:\n",
    "    print(\"Contoh tanggal yang hilang:\", missing_dates[:5].strftime('%Y-%m-%d').tolist())\n",
    "\n",
    "# Lakukan re-index untuk menambahkan baris baru untuk tanggal yang hilang\n",
    "# Baris baru ini akan berisi nilai NaN (Not a Number)\n",
    "df = df.reindex(full_range)\n",
    "\n",
    "print(\"\\nJumlah nilai kosong (NaN) setelah re-indexing:\")\n",
    "print(df.isnull().sum())"
   ]
  },
  {
   "cell_type": "markdown",
   "id": "08d095a1-2f30-4432-8cbb-02ba51b727ba",
   "metadata": {},
   "source": [
    "### **2.3. Imputasi Data (Mengisi Nilai yang Hilang)**\r\n",
    "\r\n",
    "Setelah menambahkan baris untuk tanggal yang hilang, kita perlu mengisi nilai kosong (`NaN`) tersebut dengan strategi yang logis (imputasi).\r\n",
    "\r\n",
    "  * **`venda` (Penjualan)**: Akan diisi dengan **0**. Asumsinya, jika tidak ada catatan, maka tidak ada penjualan.\r\n",
    "  * **`estoque` (Stok) & `preco` (Harga)**: Akan diisi dengan nilai dari hari sebelumnya **(Forward Fill)**. Asumsinya, stok dan harga tidak berubah jika tidak ada aktivitas penjulan.\r\n"
   ]
  },
  {
   "cell_type": "code",
   "execution_count": 44,
   "id": "264601cc-8b27-4ed1-b235-72ac4f03c6f6",
   "metadata": {},
   "outputs": [
    {
     "name": "stdout",
     "output_type": "stream",
     "text": [
      "Jumlah nilai kosong setelah imputasi:\n",
      "venda      0\n",
      "estoque    0\n",
      "preco      0\n",
      "dtype: int64\n"
     ]
    }
   ],
   "source": [
    "# Imputasi untuk kolom 'venda'\n",
    "df['venda'] = df['venda'].fillna(0)\n",
    "\n",
    "# Imputasi untuk kolom 'estoque' dan 'preco' menggunakan forward fill\n",
    "# ffill() akan membawa nilai valid terakhir untuk mengisi NaN\n",
    "df['estoque'] = df['estoque'].ffill()\n",
    "df['preco'] = df['preco'].ffill()\n",
    "\n",
    "# Cek kembali apakah masih ada nilai yang kosong\n",
    "print(\"Jumlah nilai kosong setelah imputasi:\")\n",
    "print(df.isnull().sum())"
   ]
  },
  {
   "cell_type": "markdown",
   "id": "f31743d5-ec04-4312-b0a1-772cf35d7de4",
   "metadata": {},
   "source": [
    "### **2.4. Koreksi Anomali Data**\r\n",
    "\r\n",
    "Kita perlu memastikan tidak ada nilai yang tidak logis dalam data, contohnya harga yang bernilai nol atau negati\r\n",
    "\r\n"
   ]
  },
  {
   "cell_type": "code",
   "execution_count": 47,
   "id": "dce88921-fdd6-4dc1-8b8e-041c24f48ce7",
   "metadata": {},
   "outputs": [
    {
     "name": "stdout",
     "output_type": "stream",
     "text": [
      "Ditemukan 10 baris dengan harga tidak valid (<= 0).\n",
      "\n",
      "Jumlah harga tidak valid setelah koreksi: 0\n"
     ]
    }
   ],
   "source": [
    "# Temukan baris di mana harga <= 0\n",
    "invalid_prices = df[df['preco'] <= 0]\n",
    "print(f\"Ditemukan {len(invalid_prices)} baris dengan harga tidak valid (<= 0).\")\n",
    "\n",
    "# Ganti harga tidak valid dengan NaN, lalu lakukan ffill lagi\n",
    "df.loc[df['preco'] <= 0, 'preco'] = np.nan\n",
    "df['preco'] = df['preco'].ffill()\n",
    "\n",
    "print(\"\\nJumlah harga tidak valid setelah koreksi:\", (df['preco'] <= 0).sum())"
   ]
  },
  {
   "cell_type": "markdown",
   "id": "35942fa5-aacb-4347-9671-fc2d5b3de8eb",
   "metadata": {
    "jp-MarkdownHeadingCollapsed": true
   },
   "source": [
    "## **Langkah 3: Finalisasi dan Ekspor Data**\n",
    "\n",
    "Sebagai langkah terakhir, kita akan mengubah nama kolom ke Bahasa Inggris untuk standardisasi dan menyimpan hasilnya ke dalam file CSV baru."
   ]
  },
  {
   "cell_type": "code",
   "execution_count": 58,
   "id": "89785428-b8ac-460c-97d6-cf0bda8ab6af",
   "metadata": {},
   "outputs": [
    {
     "name": "stdout",
     "output_type": "stream",
     "text": [
      "Informasi Akhir DataFrame:\n",
      "<class 'pandas.core.frame.DataFrame'>\n",
      "DatetimeIndex: 943 entries, 2014-01-01 to 2016-07-31\n",
      "Freq: D\n",
      "Data columns (total 3 columns):\n",
      " #   Column  Non-Null Count  Dtype  \n",
      "---  ------  --------------  -----  \n",
      " 0   sales   943 non-null    float64\n",
      " 1   stock   943 non-null    float64\n",
      " 2   price   943 non-null    float64\n",
      "dtypes: float64(3)\n",
      "memory usage: 61.8 KB\n",
      "\n",
      "Lima Baris Pertama Data Bersih:\n"
     ]
    },
    {
     "data": {
      "text/html": [
       "<div>\n",
       "<style scoped>\n",
       "    .dataframe tbody tr th:only-of-type {\n",
       "        vertical-align: middle;\n",
       "    }\n",
       "\n",
       "    .dataframe tbody tr th {\n",
       "        vertical-align: top;\n",
       "    }\n",
       "\n",
       "    .dataframe thead th {\n",
       "        text-align: right;\n",
       "    }\n",
       "</style>\n",
       "<table border=\"1\" class=\"dataframe\">\n",
       "  <thead>\n",
       "    <tr style=\"text-align: right;\">\n",
       "      <th></th>\n",
       "      <th>sales</th>\n",
       "      <th>stock</th>\n",
       "      <th>price</th>\n",
       "    </tr>\n",
       "  </thead>\n",
       "  <tbody>\n",
       "    <tr>\n",
       "      <th>2014-01-01</th>\n",
       "      <td>0.0</td>\n",
       "      <td>4972.0</td>\n",
       "      <td>1.29</td>\n",
       "    </tr>\n",
       "    <tr>\n",
       "      <th>2014-01-02</th>\n",
       "      <td>70.0</td>\n",
       "      <td>4902.0</td>\n",
       "      <td>1.29</td>\n",
       "    </tr>\n",
       "    <tr>\n",
       "      <th>2014-01-03</th>\n",
       "      <td>59.0</td>\n",
       "      <td>4843.0</td>\n",
       "      <td>1.29</td>\n",
       "    </tr>\n",
       "    <tr>\n",
       "      <th>2014-01-04</th>\n",
       "      <td>93.0</td>\n",
       "      <td>4750.0</td>\n",
       "      <td>1.29</td>\n",
       "    </tr>\n",
       "    <tr>\n",
       "      <th>2014-01-05</th>\n",
       "      <td>96.0</td>\n",
       "      <td>4654.0</td>\n",
       "      <td>1.29</td>\n",
       "    </tr>\n",
       "  </tbody>\n",
       "</table>\n",
       "</div>"
      ],
      "text/plain": [
       "            sales   stock  price\n",
       "2014-01-01    0.0  4972.0   1.29\n",
       "2014-01-02   70.0  4902.0   1.29\n",
       "2014-01-03   59.0  4843.0   1.29\n",
       "2014-01-04   93.0  4750.0   1.29\n",
       "2014-01-05   96.0  4654.0   1.29"
      ]
     },
     "metadata": {},
     "output_type": "display_data"
    },
    {
     "name": "stdout",
     "output_type": "stream",
     "text": [
      "\n",
      "Data yang sudah bersih berhasil diekspor ke: cleaned_dataset_en.csv\n"
     ]
    }
   ],
   "source": [
    "# Buat salinan DataFrame yang sudah bersih\n",
    "df_cleaned = df.copy()\n",
    "\n",
    "# Ganti nama kolom ke Bahasa Inggris\n",
    "df_cleaned = df_cleaned.rename(columns={\n",
    "    'venda': 'sales',\n",
    "    'estoque': 'stock',\n",
    "    'preco': 'price'\n",
    "})\n",
    "\n",
    "# Tampilkan informasi akhir dan sampel data\n",
    "print(\"Informasi Akhir DataFrame:\")\n",
    "df_cleaned.info()\n",
    "\n",
    "print(\"\\nLima Baris Pertama Data Bersih:\")\n",
    "display(df_cleaned.head())\n",
    "\n",
    "# Simpan DataFrame bersih ke file CSV baru\n",
    "output_path = 'cleaned_dataset_en.csv'\n",
    "# Pastikan header untuk index (tanggal) muncul sebagai 'date'\n",
    "df_cleaned.to_csv(output_path, index_label='date')\n",
    "\n",
    "print(f\"\\nData yang sudah bersih berhasil diekspor ke: {output_path}\")"
   ]
  },
  {
   "cell_type": "markdown",
   "id": "fec9448f-a4df-42de-b0af-37bba7f854cc",
   "metadata": {},
   "source": [
    "Proses pembersihan data telah selesai. Dataset awal yang memiliki **937 baris** dengan beberapa tanggal yang hilang kini telah menjadi dataset yang lengkap dan berurutan sebanyak **943 baris**. Seluruh nilai yang tidak logis telah dikoreksi dan format data telah distandarisasi. Dataset ini sekarang **siap dan andal** untuk digunakan dalam tahap analisis dan peramalan selanjutnya."
   ]
  }
 ],
 "metadata": {
  "kernelspec": {
   "display_name": "Python 3 (ipykernel)",
   "language": "python",
   "name": "python3"
  },
  "language_info": {
   "codemirror_mode": {
    "name": "ipython",
    "version": 3
   },
   "file_extension": ".py",
   "mimetype": "text/x-python",
   "name": "python",
   "nbconvert_exporter": "python",
   "pygments_lexer": "ipython3",
   "version": "3.12.4"
  }
 },
 "nbformat": 4,
 "nbformat_minor": 5
}
